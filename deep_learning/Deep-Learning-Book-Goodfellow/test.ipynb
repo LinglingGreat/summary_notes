{
 "cells": [
  {
   "cell_type": "markdown",
   "metadata": {},
   "source": [
    "# 深度学习\n",
    "英文版深度学习：http://www.deeplearningbook.org/\n",
    "中文翻译版深度学习：https://github.com/exacity/deeplearningbook-chinese\n",
    "\n",
    "## 第1部分 应用数学与机器学习基础\n",
    "## 第2章 线性代数\n",
    "$$x= \\begin{bmatrix}x_1 \\\\ x_2 \\\\ . \\\\ . \\\\ . \\\\ x_n\\end{bmatrix}$$"
   ]
  },
  {
   "cell_type": "code",
   "execution_count": 5,
   "metadata": {},
   "outputs": [
    {
     "name": "stdout",
     "output_type": "stream",
     "text": [
      "M:\n",
      "[[0 1 2]\n",
      " [3 4 5]\n",
      " [6 7 8]]\n",
      "C:\n",
      "[[0 1 2]]\n",
      "M+C:\n",
      "[[ 0  2  4]\n",
      " [ 3  5  7]\n",
      " [ 6  8 10]]\n"
     ]
    }
   ],
   "source": [
    "import numpy as np\n",
    "M = np.arange(9).reshape(3, 3)\n",
    "C = np.arange(3).reshape(1, 3)\n",
    "print(\"M:\")\n",
    "print(M)\n",
    "print(\"C:\")\n",
    "print(C)\n",
    "print(\"M+C:\")\n",
    "print(M+C)"
   ]
  },
  {
   "cell_type": "code",
   "execution_count": null,
   "metadata": {},
   "outputs": [],
   "source": []
  }
 ],
 "metadata": {
  "kernelspec": {
   "display_name": "Python 3",
   "language": "python",
   "name": "python3"
  },
  "language_info": {
   "codemirror_mode": {
    "name": "ipython",
    "version": 3
   },
   "file_extension": ".py",
   "mimetype": "text/x-python",
   "name": "python",
   "nbconvert_exporter": "python",
   "pygments_lexer": "ipython3",
   "version": "3.6.7"
  }
 },
 "nbformat": 4,
 "nbformat_minor": 2
}
